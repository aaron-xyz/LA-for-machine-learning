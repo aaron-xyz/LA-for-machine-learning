{
 "cells": [
  {
   "cell_type": "code",
   "execution_count": 1,
   "metadata": {},
   "outputs": [],
   "source": [
    "# importamos las librerias a usar\n",
    "import numpy as np\n",
    "import matplotlib.pyplot as plt"
   ]
  },
  {
   "cell_type": "markdown",
   "metadata": {},
   "source": [
    "# Como calcular los eigenvectores y los eigenvalores en python"
   ]
  },
  {
   "cell_type": "code",
   "execution_count": 2,
   "metadata": {},
   "outputs": [
    {
     "name": "stdout",
     "output_type": "stream",
     "text": [
      "[[3 2]\n",
      " [4 1]]\n"
     ]
    }
   ],
   "source": [
    "# Definamos la matriz a la cual queremos calcularle sus eigenvalores y sus eigenvectores\n",
    "A = np.array([[3,2],[4,1]])\n",
    "print(A)"
   ]
  },
  {
   "cell_type": "code",
   "execution_count": 4,
   "metadata": {},
   "outputs": [
    {
     "name": "stdout",
     "output_type": "stream",
     "text": [
      "Eigenvalores: \n",
      "[ 5. -1.]\n",
      "----------\n",
      "Eigenvectores: \n",
      "[[ 0.70710678 -0.4472136 ]\n",
      " [ 0.70710678  0.89442719]]\n"
     ]
    }
   ],
   "source": [
    "# calculemos sus eigenvalores y sus eigenvectores\n",
    "evals, evecs = np.linalg.eig(A)\n",
    "print(\"Eigenvalores: \"); print(evals); print(10*\"-\")\n",
    "print(\"Eigenvectores: \"); print(evecs);"
   ]
  },
  {
   "cell_type": "markdown",
   "metadata": {},
   "source": [
    "Nota\n",
    "> Notese que este calculo nos arroja 2 arrays, la primera es una array de dimension 2, la cual contiene los 2 eigenvalores. Mientras que la segunda array es una matriz de dimension $2\\times 2$ , la cual contiene a los 2 eigenvectores, siendo cada uno de estos una columna."
   ]
  },
  {
   "cell_type": "code",
   "execution_count": 11,
   "metadata": {},
   "outputs": [
    {
     "name": "stdout",
     "output_type": "stream",
     "text": [
      "Eigenvalor l1 = 5.0\n",
      "Eigenvector u1 = [0.70710678 0.70710678]\n",
      "----------\n",
      "Eigenvalor l2 = -1.0\n",
      "Eigenvector u2 = [-0.4472136   0.89442719]\n"
     ]
    }
   ],
   "source": [
    "# A continuacion se muestran los mismos reultados, pero asociando cada eigenvalor con su eigenvector\n",
    "print(f\"Eigenvalor l1 = {evals[0]}\"); print(f\"Eigenvector u1 = {evecs[:,0]}\")\n",
    "print(10*\"-\")\n",
    "print(f\"Eigenvalor l2 = {evals[1]}\"); print(f\"Eigenvector u2 = {evecs[:,1]}\")"
   ]
  },
  {
   "cell_type": "code",
   "execution_count": null,
   "metadata": {},
   "outputs": [],
   "source": []
  }
 ],
 "metadata": {
  "kernelspec": {
   "display_name": "Python 3",
   "language": "python",
   "name": "python3"
  },
  "language_info": {
   "codemirror_mode": {
    "name": "ipython",
    "version": 3
   },
   "file_extension": ".py",
   "mimetype": "text/x-python",
   "name": "python",
   "nbconvert_exporter": "python",
   "pygments_lexer": "ipython3",
   "version": "3.8.3"
  }
 },
 "nbformat": 4,
 "nbformat_minor": 4
}
