{
 "cells": [
  {
   "cell_type": "code",
   "execution_count": 3,
   "metadata": {},
   "outputs": [],
   "source": [
    "# importamos librerias necesarias\n",
    "import numpy as np"
   ]
  },
  {
   "cell_type": "markdown",
   "metadata": {},
   "source": [
    "# Descomponer una matriz no cuadrada - metodo SVD\n",
    "\n",
    "El metodo SVD significa Descomposicion de valores singulares o Singular Value Decomposition por sus siglas en ingles."
   ]
  },
  {
   "cell_type": "code",
   "execution_count": 34,
   "metadata": {},
   "outputs": [
    {
     "name": "stdout",
     "output_type": "stream",
     "text": [
      "[[1 2 3]\n",
      " [4 7 1]]\n"
     ]
    }
   ],
   "source": [
    "# Definamos una matriz no cuadrada\n",
    "A = np.array([[1,2,3],[4,7,1]])\n",
    "print(A)"
   ]
  },
  {
   "cell_type": "code",
   "execution_count": 35,
   "metadata": {},
   "outputs": [
    {
     "name": "stdout",
     "output_type": "stream",
     "text": [
      "[[-0.33321076  0.94285237]\n",
      " [-0.94285237 -0.33321076]]\n",
      "**********\n",
      "[8.56863758 2.56484894]\n",
      "**********\n",
      "[[-0.47902834 -0.84802141 -0.22669702]\n",
      " [-0.1520521  -0.17418982  0.97290188]\n",
      " [-0.86452993  0.50051733 -0.04550158]]\n"
     ]
    }
   ],
   "source": [
    "# calculemos sus valores singulares\n",
    "U, S, V = np.linalg.svd(A)\n",
    "print(U)\n",
    "print(10*\"*\")\n",
    "print(S)\n",
    "print(10*\"*\")\n",
    "print(V)"
   ]
  },
  {
   "cell_type": "markdown",
   "metadata": {},
   "source": [
    "Para volver a la matriz original, a apartir de las matrices de los elementos singulares, debemos realizar la siguiente operacion:\n",
    "\n",
    "$$A = USV$$\n",
    "\n",
    "Donde:\n",
    "- $U$ es la matriz que asignamos como `U`\n",
    "- $V$ es la matriz que asignamos como `V`\n",
    "- $S$ es una matris diagonal con los elementos de `S` en su diagonal.\n",
    "\n",
    "Notese\n",
    "> La matriz resultante de `S` conincide con la dimensiones de `V` para ejecutar una multiplicacion correcta entre estas 2 matrices. Lo que debemos hacer es agregar columnas de 0's hasta que las dimensiones no generen errores."
   ]
  },
  {
   "cell_type": "code",
   "execution_count": 40,
   "metadata": {},
   "outputs": [
    {
     "name": "stdout",
     "output_type": "stream",
     "text": [
      "[[8.56863758 0.         0.        ]\n",
      " [0.         2.56484894 0.        ]]\n"
     ]
    }
   ],
   "source": [
    "%run \"./funciones_auxiliares/agregarCeros.ipynb\"\n",
    "\n",
    "# ajustando S a forma matricial\n",
    "S = np.diag(S)\n",
    "\n",
    "S = agregarColumnasDeCeros(S,1)\n",
    "\n",
    "print(S)"
   ]
  },
  {
   "cell_type": "code",
   "execution_count": 41,
   "metadata": {},
   "outputs": [
    {
     "name": "stdout",
     "output_type": "stream",
     "text": [
      "[[1 2 3]\n",
      " [4 7 1]]\n"
     ]
    }
   ],
   "source": [
    "Acalc = U.dot(S).dot(V)\n",
    "print(A)"
   ]
  },
  {
   "cell_type": "markdown",
   "metadata": {},
   "source": [
    "# Borrador de ideas"
   ]
  },
  {
   "cell_type": "code",
   "execution_count": 21,
   "metadata": {},
   "outputs": [
    {
     "name": "stdout",
     "output_type": "stream",
     "text": [
      "[[3 0]\n",
      " [4 5]]\n"
     ]
    }
   ],
   "source": [
    "# matriz\n",
    "C = np.array([[3,0],[4,5]])\n",
    "print(C)"
   ]
  },
  {
   "cell_type": "code",
   "execution_count": 30,
   "metadata": {},
   "outputs": [],
   "source": [
    "%run \"./funciones_auxiliares/agregarCeros.ipynb\""
   ]
  },
  {
   "cell_type": "code",
   "execution_count": 33,
   "metadata": {},
   "outputs": [
    {
     "name": "stdout",
     "output_type": "stream",
     "text": [
      "[[3. 0. 0. 0. 0.]\n",
      " [4. 5. 0. 0. 0.]]\n",
      "[[3. 0. 0. 0. 0.]\n",
      " [4. 5. 0. 0. 0.]\n",
      " [0. 0. 0. 0. 0.]\n",
      " [0. 0. 0. 0. 0.]\n",
      " [0. 0. 0. 0. 0.]]\n"
     ]
    }
   ],
   "source": [
    "C2 = agregarColumnasDeCeros(C,3)\n",
    "print(C2)\n",
    "\n",
    "C3 = agregarFilasDeCeros(C2,3)\n",
    "print(C3)"
   ]
  },
  {
   "cell_type": "code",
   "execution_count": 15,
   "metadata": {},
   "outputs": [
    {
     "name": "stdout",
     "output_type": "stream",
     "text": [
      "[[-0.31622777 -0.9486833 ]\n",
      " [-0.9486833   0.31622777]]\n",
      "**********\n",
      "[6.70820393 2.23606798]\n",
      "**********\n",
      "[[-0.70710678 -0.70710678]\n",
      " [-0.70710678  0.70710678]]\n"
     ]
    }
   ],
   "source": [
    "U, S, V = np.linalg.svd(C)\n",
    "print(U)\n",
    "print(10*\"*\")\n",
    "print(S)\n",
    "print(10*\"*\")\n",
    "print(V)"
   ]
  },
  {
   "cell_type": "code",
   "execution_count": 18,
   "metadata": {},
   "outputs": [
    {
     "name": "stdout",
     "output_type": "stream",
     "text": [
      "[[3.00000000e+00 1.33226763e-15]\n",
      " [4.00000000e+00 5.00000000e+00]]\n"
     ]
    }
   ],
   "source": [
    "Ccalc = U.dot(np.diag(S)).dot(V)\n",
    "print(Ccalc)"
   ]
  },
  {
   "cell_type": "code",
   "execution_count": 20,
   "metadata": {},
   "outputs": [
    {
     "data": {
      "text/plain": [
       "(2, 3)"
      ]
     },
     "execution_count": 20,
     "metadata": {},
     "output_type": "execute_result"
    }
   ],
   "source": [
    "A.shape"
   ]
  },
  {
   "cell_type": "code",
   "execution_count": null,
   "metadata": {},
   "outputs": [],
   "source": []
  }
 ],
 "metadata": {
  "kernelspec": {
   "display_name": "Python 3",
   "language": "python",
   "name": "python3"
  },
  "language_info": {
   "codemirror_mode": {
    "name": "ipython",
    "version": 3
   },
   "file_extension": ".py",
   "mimetype": "text/x-python",
   "name": "python",
   "nbconvert_exporter": "python",
   "pygments_lexer": "ipython3",
   "version": "3.8.3"
  }
 },
 "nbformat": 4,
 "nbformat_minor": 4
}
