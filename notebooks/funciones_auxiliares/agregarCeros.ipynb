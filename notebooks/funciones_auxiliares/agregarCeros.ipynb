{
 "cells": [
  {
   "cell_type": "code",
   "execution_count": 3,
   "metadata": {},
   "outputs": [],
   "source": [
    "def agregarColumnasDeCeros(matriz,cols):\n",
    "    f, c = matriz.shape\n",
    "    A = np.zeros((f,c+cols))\n",
    "    A[:,:-cols] = matriz\n",
    "    return A"
   ]
  },
  {
   "cell_type": "code",
   "execution_count": 4,
   "metadata": {},
   "outputs": [],
   "source": [
    "def agregarFilasDeCeros(matriz,filas):\n",
    "    f, c = matriz.shape\n",
    "    A = np.zeros((f+filas,c))\n",
    "    A[:-filas,:] = matriz\n",
    "    return A"
   ]
  }
 ],
 "metadata": {
  "kernelspec": {
   "display_name": "Python 3",
   "language": "python",
   "name": "python3"
  },
  "language_info": {
   "codemirror_mode": {
    "name": "ipython",
    "version": 3
   },
   "file_extension": ".py",
   "mimetype": "text/x-python",
   "name": "python",
   "nbconvert_exporter": "python",
   "pygments_lexer": "ipython3",
   "version": "3.8.3"
  }
 },
 "nbformat": 4,
 "nbformat_minor": 4
}
