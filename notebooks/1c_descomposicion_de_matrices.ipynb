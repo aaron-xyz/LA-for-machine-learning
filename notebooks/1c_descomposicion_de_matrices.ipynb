{
 "cells": [
  {
   "cell_type": "code",
   "execution_count": 1,
   "metadata": {},
   "outputs": [],
   "source": [
    "# importqamos las librerias necesarias\n",
    "import numpy as np"
   ]
  },
  {
   "cell_type": "markdown",
   "metadata": {},
   "source": [
    "# Descomposición de matrices por medio de sus Eigenvelores y Eigenvectores\n",
    "\n",
    "Una matriz A, se puede descomponer a partir de sus eigenvalores y eigenvectores de la siguienten manera:\n",
    "\n",
    "$$\n",
    "A=VLV^{-1}=\n",
    "\\begin{bmatrix}\n",
    "|    & |   &        & |   \\\\\n",
    "u_1  & u_2 & \\cdots & u_n \\\\\n",
    "|    & |   &        & |\n",
    "\\end{bmatrix}\n",
    "\\,\n",
    "\\begin{bmatrix}\n",
    "\\lambda_1 &           &        &  \\\\\n",
    "          & \\lambda_2 &        &  \\\\\n",
    "          &           & \\ddots &  \\\\\n",
    "          &           &        & \\lambda_n\n",
    "\\end{bmatrix}\n",
    "\\,\n",
    "\\begin{bmatrix}\n",
    "|    & |   &        & |   \\\\\n",
    "u_1  & u_2 & \\cdots & u_n \\\\\n",
    "|    & |   &        & |\n",
    "\\end{bmatrix}^{\\,\\, -1}\n",
    "$$\n",
    "\n",
    "Donde:\n",
    "- $V$ es la matriz de eigenvectores\n",
    "- $L$ es la matriz diagonal con los eigenvalores como sus elementos\n",
    "- $\\lambda$ son los eigenvalores\n",
    "- $u_i$ es el i-ésimo eigenvector.\n",
    "\n",
    "Para los casos en los que resulta que nuestra matriz $A$ es simetrica, no sera necesario calcular la inversa de $V$, sino su transpuesta, $A^{T}$, es decir:\n",
    "$$A_{sim} = VLV^{T}$$"
   ]
  },
  {
   "cell_type": "markdown",
   "metadata": {},
   "source": [
    "## Caso 1: Matriz no simetrica"
   ]
  },
  {
   "cell_type": "code",
   "execution_count": 2,
   "metadata": {},
   "outputs": [
    {
     "name": "stdout",
     "output_type": "stream",
     "text": [
      "[[3 2]\n",
      " [4 1]]\n"
     ]
    }
   ],
   "source": [
    "# Veamos un ejemplo, empezando por definir nuestra matriz de ejemplo\n",
    "A = np.array([[3,2],[4,1]])\n",
    "print(A)"
   ]
  },
  {
   "cell_type": "code",
   "execution_count": 3,
   "metadata": {},
   "outputs": [
    {
     "name": "stdout",
     "output_type": "stream",
     "text": [
      "[ 5. -1.]\n",
      "----------\n",
      "[[ 0.70710678 -0.4472136 ]\n",
      " [ 0.70710678  0.89442719]]\n"
     ]
    }
   ],
   "source": [
    "# Calculemos los eigenvalores y los eigenvectores de A\n",
    "evals, evecs = np.linalg.eig(A)\n",
    "print(evals)\n",
    "print(10*\"-\")\n",
    "print(evecs)"
   ]
  },
  {
   "cell_type": "code",
   "execution_count": 4,
   "metadata": {},
   "outputs": [
    {
     "name": "stdout",
     "output_type": "stream",
     "text": [
      "[[3. 2.]\n",
      " [4. 1.]]\n"
     ]
    }
   ],
   "source": [
    "# veamos si al realizar la operacion VLV volvemos a la matriz original\n",
    "Acalc = evecs.dot(np.diag(evals)).dot(np.linalg.inv(evecs))\n",
    "print(Acalc)"
   ]
  },
  {
   "cell_type": "markdown",
   "metadata": {},
   "source": [
    "## Caso 2: Matriz simetrica"
   ]
  },
  {
   "cell_type": "code",
   "execution_count": 9,
   "metadata": {},
   "outputs": [
    {
     "name": "stdout",
     "output_type": "stream",
     "text": [
      "[[6 7]\n",
      " [7 6]]\n"
     ]
    }
   ],
   "source": [
    "# Definamos una matriz simetrica 2x2\n",
    "B = np.array([[6,7],[7,6]])\n",
    "print(B)"
   ]
  },
  {
   "cell_type": "code",
   "execution_count": 10,
   "metadata": {},
   "outputs": [
    {
     "name": "stdout",
     "output_type": "stream",
     "text": [
      "[13. -1.]\n",
      "----------\n",
      "[[ 0.70710678 -0.70710678]\n",
      " [ 0.70710678  0.70710678]]\n"
     ]
    }
   ],
   "source": [
    "# Calculemos los eigenvalores y los eigenvectores de B\n",
    "evals, evecs = np.linalg.eig(B)\n",
    "print(evals)\n",
    "print(10*\"-\")\n",
    "print(evecs)"
   ]
  },
  {
   "cell_type": "code",
   "execution_count": 11,
   "metadata": {},
   "outputs": [
    {
     "name": "stdout",
     "output_type": "stream",
     "text": [
      "[[6. 7.]\n",
      " [7. 6.]]\n"
     ]
    }
   ],
   "source": [
    "# Calculemos B a partir de sus eigenelementos\n",
    "Bcalc = evecs.dot(np.diag(evals)).dot(evecs.T)\n",
    "print(Bcalc)"
   ]
  },
  {
   "cell_type": "code",
   "execution_count": null,
   "metadata": {},
   "outputs": [],
   "source": []
  }
 ],
 "metadata": {
  "kernelspec": {
   "display_name": "Python 3",
   "language": "python",
   "name": "python3"
  },
  "language_info": {
   "codemirror_mode": {
    "name": "ipython",
    "version": 3
   },
   "file_extension": ".py",
   "mimetype": "text/x-python",
   "name": "python",
   "nbconvert_exporter": "python",
   "pygments_lexer": "ipython3",
   "version": "3.8.3"
  }
 },
 "nbformat": 4,
 "nbformat_minor": 4
}
