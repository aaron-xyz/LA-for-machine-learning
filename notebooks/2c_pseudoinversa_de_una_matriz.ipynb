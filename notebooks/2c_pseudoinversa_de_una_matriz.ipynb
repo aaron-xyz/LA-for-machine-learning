{
 "cells": [
  {
   "cell_type": "code",
   "execution_count": 1,
   "metadata": {},
   "outputs": [],
   "source": [
    "import numpy as np\n",
    "\n",
    "np.set_printoptions(suppress=True)"
   ]
  },
  {
   "cell_type": "markdown",
   "metadata": {},
   "source": [
    "# Pseudoinversa de una matriz\n",
    "La pseudo inversa de Moore Penrose es utilizada cuando en un sistema de ecuaciones lineales representado por $Ax = B$, $x$ no tiene inversa.\n",
    "La pseudo inversa de MP es única y existe si se verifican 4 condiciones.\n",
    "\n",
    "Para calcularla se siguen los siguientes pasos:\n",
    "- Calcular las matrices $U$, $D$, y $V$ (matrices SVD) de $A$.\n",
    "- Construir $D_{pse}$: una matriz de ceros que tiene igual dimension de $A$, y que luego se transpone.\n",
    "- Reemplazar la submatriz `D_pse[: D.shape[0], : D.shape[0]]` por `np.linalg.inv(np.diag(D))`\n",
    "- Reconstruir pseudoinversa: `A_pse = V.T.dot(D_pse).dot(U.T)`\n",
    "\n",
    "Para calcularla automaticamente por Python: `np.linalg.pinv(A)`\n",
    "Lo que obtenemos con `A_pse` es una matriz muy cercana a la inversa. Cercano en el sentido de que minimiza la norma dos de estas distancias. O sea, de estos errores que estamos cometiendo.\n",
    "`A_pse` no es conmutativa, es decir, `A_pse·A ≠ A·A_pse`"
   ]
  },
  {
   "cell_type": "markdown",
   "metadata": {},
   "source": [
    "## Calculamos SVD a la matriz A"
   ]
  },
  {
   "cell_type": "code",
   "execution_count": 2,
   "metadata": {},
   "outputs": [
    {
     "name": "stdout",
     "output_type": "stream",
     "text": [
      "[[ 2  3]\n",
      " [ 5  7]\n",
      " [11 13]]\n"
     ]
    }
   ],
   "source": [
    "# Definimos matriz\n",
    "A = np.array([[2,3], [5,7], [11,13]])\n",
    "print(A)"
   ]
  },
  {
   "cell_type": "code",
   "execution_count": 5,
   "metadata": {},
   "outputs": [
    {
     "name": "stdout",
     "output_type": "stream",
     "text": [
      "U\n",
      "[[-0.18499741 -0.47276624 -0.86154979]\n",
      " [-0.44249308 -0.74271297  0.50257071]\n",
      " [-0.87748267  0.4742041  -0.07179582]]\n",
      "\n",
      "D\n",
      "[[19.40321383  0.        ]\n",
      " [ 0.          0.71783924]]\n",
      "\n",
      "V\n",
      "[[-0.63055377 -0.77614557]\n",
      " [ 0.77614557 -0.63055377]]\n"
     ]
    }
   ],
   "source": [
    "# Calculamos su SVD\n",
    "U, D, V = np.linalg.svd(A)\n",
    "D = np.diag(D)\n",
    "print(\"U\")\n",
    "print(U)\n",
    "print(\"\\nD\")\n",
    "print(D)\n",
    "print(\"\\nV\")\n",
    "print(V)"
   ]
  },
  {
   "cell_type": "markdown",
   "metadata": {},
   "source": [
    "## Calculamos $D_{inv}$"
   ]
  },
  {
   "cell_type": "code",
   "execution_count": 7,
   "metadata": {},
   "outputs": [
    {
     "name": "stdout",
     "output_type": "stream",
     "text": [
      "Dimensiones de la pseudoinversa\n",
      "[[0. 0. 0.]\n",
      " [0. 0. 0.]]\n"
     ]
    }
   ],
   "source": [
    "# Dimensiones que debe tener la pseudoinversa\n",
    "print(\"Dimensiones de la pseudoinversa\")\n",
    "D_pse = np.zeros((A.shape[0], A.shape[1])).T\n",
    "print(D_pse)"
   ]
  },
  {
   "cell_type": "code",
   "execution_count": 9,
   "metadata": {},
   "outputs": [
    {
     "name": "stdout",
     "output_type": "stream",
     "text": [
      "Valores a ser remplazados en D_pse\n",
      "[[0. 0.]\n",
      " [0. 0.]]\n"
     ]
    }
   ],
   "source": [
    "# Valores que vamos a remplazar en D_pse\n",
    "print(\"Valores a ser remplazados en D_pse\")\n",
    "print(D_pse[:D.shape[0], :D.shape[0]])"
   ]
  },
  {
   "cell_type": "code",
   "execution_count": 10,
   "metadata": {},
   "outputs": [
    {
     "name": "stdout",
     "output_type": "stream",
     "text": [
      "Valores que pondremos en D_pse\n",
      "[[0.05153785 0.        ]\n",
      " [0.         1.39306957]]\n"
     ]
    }
   ],
   "source": [
    "print(\"Valores que pondremos en D_pse\")\n",
    "print(np.linalg.inv(D))"
   ]
  },
  {
   "cell_type": "code",
   "execution_count": 13,
   "metadata": {},
   "outputs": [
    {
     "name": "stdout",
     "output_type": "stream",
     "text": [
      "D_pse\n",
      "[[0.05153785 0.         0.        ]\n",
      " [0.         1.39306957 0.        ]]\n"
     ]
    }
   ],
   "source": [
    "print(\"D_pse\")\n",
    "D_pse[:D.shape[0], :D.shape[0]] = np.linalg.inv(D)\n",
    "print(D_pse)"
   ]
  },
  {
   "cell_type": "markdown",
   "metadata": {},
   "source": [
    "## Calculamos la pseudoinversa de A"
   ]
  },
  {
   "cell_type": "code",
   "execution_count": 14,
   "metadata": {},
   "outputs": [
    {
     "name": "stdout",
     "output_type": "stream",
     "text": [
      "[[-0.50515464 -0.78865979  0.54123711]\n",
      " [ 0.42268041  0.67010309 -0.3814433 ]]\n"
     ]
    }
   ],
   "source": [
    "# Finalmente, calculamos la pseudoinversa de A usando las matrices U, D y V\n",
    "A_pse = V.T.dot(D_pse).dot(U.T)\n",
    "print(A_pse)"
   ]
  },
  {
   "cell_type": "code",
   "execution_count": 15,
   "metadata": {
    "scrolled": true
   },
   "outputs": [
    {
     "name": "stdout",
     "output_type": "stream",
     "text": [
      "[[-0.50515464 -0.78865979  0.54123711]\n",
      " [ 0.42268041  0.67010309 -0.3814433 ]]\n"
     ]
    }
   ],
   "source": [
    "# Python ya calcula tiene un metodo para calcular la pseudoinversa usando SVD\n",
    "A_pse_calc = np.linalg.pinv(A)\n",
    "print(A_pse_calc)"
   ]
  },
  {
   "cell_type": "markdown",
   "metadata": {},
   "source": [
    "## Comprobamos multiplicando A_pse $\\times$ A"
   ]
  },
  {
   "cell_type": "code",
   "execution_count": 16,
   "metadata": {},
   "outputs": [
    {
     "name": "stdout",
     "output_type": "stream",
     "text": [
      "[[ 1.00000000e+00 -8.88178420e-16]\n",
      " [ 2.66453526e-15  1.00000000e+00]]\n"
     ]
    }
   ],
   "source": [
    "print(A_pse.dot(A))"
   ]
  },
  {
   "cell_type": "markdown",
   "metadata": {},
   "source": [
    "# $A_{pse}$ no es conmutativa\n",
    "A diferencia la inversa original, las pseudoinversas no son conmutativas"
   ]
  },
  {
   "cell_type": "code",
   "execution_count": 17,
   "metadata": {},
   "outputs": [
    {
     "name": "stdout",
     "output_type": "stream",
     "text": [
      "[[ 0.25773196  0.43298969 -0.06185567]\n",
      " [ 0.43298969  0.74742268  0.03608247]\n",
      " [-0.06185567  0.03608247  0.99484536]]\n"
     ]
    }
   ],
   "source": [
    "print(A.dot(A_pse))"
   ]
  },
  {
   "cell_type": "markdown",
   "metadata": {},
   "source": [
    "# Existen otros metodos para calcular las pseudoinversas"
   ]
  },
  {
   "cell_type": "code",
   "execution_count": 19,
   "metadata": {},
   "outputs": [
    {
     "name": "stdout",
     "output_type": "stream",
     "text": [
      "[[-0.50515464 -0.78865979  0.54123711]\n",
      " [ 0.42268041  0.67010309 -0.3814433 ]]\n"
     ]
    }
   ],
   "source": [
    "## Otros metodos para calcular inversas\n",
    "A_pse_2 = np.linalg.inv(A.T.dot(A)).dot(A.T)\n",
    "print(A_pse_2)"
   ]
  }
 ],
 "metadata": {
  "kernelspec": {
   "display_name": "Python 3",
   "language": "python",
   "name": "python3"
  },
  "language_info": {
   "codemirror_mode": {
    "name": "ipython",
    "version": 3
   },
   "file_extension": ".py",
   "mimetype": "text/x-python",
   "name": "python",
   "nbconvert_exporter": "python",
   "pygments_lexer": "ipython3",
   "version": "3.8.3"
  }
 },
 "nbformat": 4,
 "nbformat_minor": 4
}
